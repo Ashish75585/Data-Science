{
 "cells": [
  {
   "cell_type": "markdown",
   "id": "a46b97e4-c300-43d0-94fb-ce6ddc1b538d",
   "metadata": {},
   "source": [
    "# Numpy Operations"
   ]
  },
  {
   "cell_type": "code",
   "execution_count": 1,
   "id": "de988042-b69d-477b-9c72-fa0818a907a2",
   "metadata": {},
   "outputs": [],
   "source": [
    "import numpy as np\n"
   ]
  },
  {
   "cell_type": "code",
   "execution_count": 2,
   "id": "d56fc7fb-72ab-4585-a8b1-e4cdea7c0c92",
   "metadata": {},
   "outputs": [],
   "source": [
    "arr1 = np.arange(11)"
   ]
  },
  {
   "cell_type": "code",
   "execution_count": 3,
   "id": "05488ea0-985f-48d1-999f-2c0237927ff9",
   "metadata": {},
   "outputs": [
    {
     "data": {
      "text/plain": [
       "array([ 0,  1,  2,  3,  4,  5,  6,  7,  8,  9, 10])"
      ]
     },
     "execution_count": 3,
     "metadata": {},
     "output_type": "execute_result"
    }
   ],
   "source": [
    "arr1"
   ]
  },
  {
   "cell_type": "code",
   "execution_count": 4,
   "id": "49c3a230-86fd-4da2-9b87-b9662fb6dcb8",
   "metadata": {},
   "outputs": [],
   "source": [
    "arr2 = np.arange(12, 23)"
   ]
  },
  {
   "cell_type": "code",
   "execution_count": 7,
   "id": "dba1653d-9895-478a-b9c1-12d4b7bfd3a7",
   "metadata": {},
   "outputs": [
    {
     "data": {
      "text/plain": [
       "array([12, 13, 14, 15, 16, 17, 18, 19, 20, 21, 22])"
      ]
     },
     "execution_count": 7,
     "metadata": {},
     "output_type": "execute_result"
    }
   ],
   "source": [
    "arr2"
   ]
  },
  {
   "cell_type": "markdown",
   "id": "2122e99c-9dbd-4030-b82e-876f454b0f69",
   "metadata": {},
   "source": [
    "## Arithmatic Operations"
   ]
  },
  {
   "cell_type": "markdown",
   "id": "d033ee38-fc5c-4f5e-8dfa-01563b002b4e",
   "metadata": {},
   "source": [
    "### 1. Addition\n",
    "    Each element of 1st array get added with 2nd array"
   ]
  },
  {
   "cell_type": "code",
   "execution_count": 8,
   "id": "73932260-fc30-45f6-8436-ea2bcd47b682",
   "metadata": {},
   "outputs": [
    {
     "data": {
      "text/plain": [
       "array([12, 14, 16, 18, 20, 22, 24, 26, 28, 30, 32])"
      ]
     },
     "execution_count": 8,
     "metadata": {},
     "output_type": "execute_result"
    }
   ],
   "source": [
    "arr1 + arr2"
   ]
  },
  {
   "cell_type": "markdown",
   "id": "9866fb35-7d43-43e4-ae3d-d1f5ea7ff4ec",
   "metadata": {},
   "source": [
    "### 2. Subtraction"
   ]
  },
  {
   "cell_type": "code",
   "execution_count": 10,
   "id": "1c0e6003-165a-49a6-976f-9c1cb048dd18",
   "metadata": {},
   "outputs": [
    {
     "data": {
      "text/plain": [
       "array([12, 12, 12, 12, 12, 12, 12, 12, 12, 12, 12])"
      ]
     },
     "execution_count": 10,
     "metadata": {},
     "output_type": "execute_result"
    }
   ],
   "source": [
    "arr2 - arr1"
   ]
  },
  {
   "cell_type": "markdown",
   "id": "886fa9ae-40c6-4b12-86ce-1a8d108b1c33",
   "metadata": {},
   "source": [
    "### 3. Multiplication"
   ]
  },
  {
   "cell_type": "code",
   "execution_count": 11,
   "id": "c70f2213-4a3f-4ab2-a260-214d64d1b8d9",
   "metadata": {},
   "outputs": [
    {
     "data": {
      "text/plain": [
       "array([  0,  13,  28,  45,  64,  85, 108, 133, 160, 189, 220])"
      ]
     },
     "execution_count": 11,
     "metadata": {},
     "output_type": "execute_result"
    }
   ],
   "source": [
    "arr1 * arr2"
   ]
  },
  {
   "cell_type": "markdown",
   "id": "375c845d-675b-43f8-a2bb-0cc19f4c32c1",
   "metadata": {},
   "source": [
    "## Scalar Operation"
   ]
  },
  {
   "cell_type": "code",
   "execution_count": 12,
   "id": "68968b40-873a-4c11-8367-1f954817fcce",
   "metadata": {},
   "outputs": [
    {
     "data": {
      "text/plain": [
       "array([ 0,  1,  2,  3,  4,  5,  6,  7,  8,  9, 10])"
      ]
     },
     "execution_count": 12,
     "metadata": {},
     "output_type": "execute_result"
    }
   ],
   "source": [
    "arr1"
   ]
  },
  {
   "cell_type": "code",
   "execution_count": 13,
   "id": "fad7c3d5-ee13-43a8-bbac-1cf27e4ce87d",
   "metadata": {},
   "outputs": [
    {
     "data": {
      "text/plain": [
       "array([  0,  10,  20,  30,  40,  50,  60,  70,  80,  90, 100])"
      ]
     },
     "execution_count": 13,
     "metadata": {},
     "output_type": "execute_result"
    }
   ],
   "source": [
    "arr1 * 10"
   ]
  },
  {
   "cell_type": "code",
   "execution_count": 14,
   "id": "cc99a53c-37f5-4e31-b246-b9bad14b24e3",
   "metadata": {},
   "outputs": [
    {
     "data": {
      "text/plain": [
       "array([20, 21, 22, 23, 24, 25, 26, 27, 28, 29, 30])"
      ]
     },
     "execution_count": 14,
     "metadata": {},
     "output_type": "execute_result"
    }
   ],
   "source": [
    "arr1+20"
   ]
  },
  {
   "cell_type": "markdown",
   "id": "48a915a6-f9e9-4ade-85a4-653516eb4dcc",
   "metadata": {},
   "source": [
    "Numpy will give an warning while dividing by `zero` and replace the value with `nan`"
   ]
  },
  {
   "cell_type": "code",
   "execution_count": 15,
   "id": "0072abc2-3a95-4d9b-add8-0ea5e9d54bb4",
   "metadata": {},
   "outputs": [
    {
     "name": "stderr",
     "output_type": "stream",
     "text": [
      "C:\\Users\\DELL\\AppData\\Local\\Temp\\ipykernel_12532\\1510032488.py:1: RuntimeWarning: divide by zero encountered in divide\n",
      "  arr1/0\n",
      "C:\\Users\\DELL\\AppData\\Local\\Temp\\ipykernel_12532\\1510032488.py:1: RuntimeWarning: invalid value encountered in divide\n",
      "  arr1/0\n"
     ]
    },
    {
     "data": {
      "text/plain": [
       "array([nan, inf, inf, inf, inf, inf, inf, inf, inf, inf, inf])"
      ]
     },
     "execution_count": 15,
     "metadata": {},
     "output_type": "execute_result"
    }
   ],
   "source": [
    "arr1/0"
   ]
  },
  {
   "cell_type": "markdown",
   "id": "16f9f613-8e4f-495f-a5ea-c277066a26b0",
   "metadata": {},
   "source": [
    "`inf` stands for `infinity`."
   ]
  },
  {
   "cell_type": "code",
   "execution_count": 16,
   "id": "025ff080-f93d-48af-89f7-48ed8e54bca3",
   "metadata": {},
   "outputs": [],
   "source": [
    "arr1 = np.arange(11)"
   ]
  },
  {
   "cell_type": "code",
   "execution_count": 17,
   "id": "6efa9077-e86b-400e-843c-b28dcdd3779d",
   "metadata": {},
   "outputs": [
    {
     "data": {
      "text/plain": [
       "array([ 0,  1,  2,  3,  4,  5,  6,  7,  8,  9, 10])"
      ]
     },
     "execution_count": 17,
     "metadata": {},
     "output_type": "execute_result"
    }
   ],
   "source": [
    "arr1"
   ]
  },
  {
   "cell_type": "markdown",
   "id": "cbea10e7-67fa-4cb1-a8ef-de8c3942269d",
   "metadata": {},
   "source": [
    "## Universal Array function"
   ]
  },
  {
   "cell_type": "markdown",
   "id": "5e131450-4bb3-49c6-a0b9-d939dc63aff5",
   "metadata": {},
   "source": [
    "#### 1. sqrt()"
   ]
  },
  {
   "cell_type": "code",
   "execution_count": 18,
   "id": "f8556336-910d-4162-8ff6-ce4e2cd12b66",
   "metadata": {},
   "outputs": [
    {
     "data": {
      "text/plain": [
       "array([0.        , 1.        , 1.41421356, 1.73205081, 2.        ,\n",
       "       2.23606798, 2.44948974, 2.64575131, 2.82842712, 3.        ,\n",
       "       3.16227766])"
      ]
     },
     "execution_count": 18,
     "metadata": {},
     "output_type": "execute_result"
    }
   ],
   "source": [
    "np.sqrt(arr1)"
   ]
  },
  {
   "cell_type": "markdown",
   "id": "fd2ab1be-d60f-460a-bd8d-a546ec789182",
   "metadata": {},
   "source": [
    "#### 2. exp()\n",
    "    this is exponential."
   ]
  },
  {
   "cell_type": "markdown",
   "id": "23ec5a0f-3442-4bf7-8120-79f75baeec75",
   "metadata": {},
   "source": [
    "np.exp(arr1)"
   ]
  },
  {
   "cell_type": "markdown",
   "id": "189b4db7-0917-441f-b9a7-0499b90aa4a2",
   "metadata": {},
   "source": [
    "#### 3. max() & min()"
   ]
  },
  {
   "cell_type": "code",
   "execution_count": 20,
   "id": "e66052ed-a154-47bc-a6d7-ff5f279cecb9",
   "metadata": {},
   "outputs": [
    {
     "data": {
      "text/plain": [
       "10"
      ]
     },
     "execution_count": 20,
     "metadata": {},
     "output_type": "execute_result"
    }
   ],
   "source": [
    "arr1.max()"
   ]
  },
  {
   "cell_type": "code",
   "execution_count": 21,
   "id": "d5146563-9200-4ba6-b6cb-3b51ded0af21",
   "metadata": {},
   "outputs": [
    {
     "data": {
      "text/plain": [
       "0"
      ]
     },
     "execution_count": 21,
     "metadata": {},
     "output_type": "execute_result"
    }
   ],
   "source": [
    "arr1.min()"
   ]
  },
  {
   "cell_type": "markdown",
   "id": "29a18acd-c598-4e37-90d4-619acec45bdd",
   "metadata": {},
   "source": [
    "#### 4. logrithmic"
   ]
  },
  {
   "cell_type": "code",
   "execution_count": 22,
   "id": "005f77da-8e6a-4936-bd40-b0849e294ebb",
   "metadata": {},
   "outputs": [
    {
     "name": "stderr",
     "output_type": "stream",
     "text": [
      "C:\\Users\\DELL\\AppData\\Local\\Temp\\ipykernel_12532\\2108464003.py:1: RuntimeWarning: divide by zero encountered in log\n",
      "  np.log(arr1)\n"
     ]
    },
    {
     "data": {
      "text/plain": [
       "array([      -inf, 0.        , 0.69314718, 1.09861229, 1.38629436,\n",
       "       1.60943791, 1.79175947, 1.94591015, 2.07944154, 2.19722458,\n",
       "       2.30258509])"
      ]
     },
     "execution_count": 22,
     "metadata": {},
     "output_type": "execute_result"
    }
   ],
   "source": [
    "np.log(arr1)"
   ]
  },
  {
   "cell_type": "markdown",
   "id": "3752733f-3303-4998-9910-c9ceb3af2ec6",
   "metadata": {},
   "source": [
    "#### 5. Triginometric"
   ]
  },
  {
   "cell_type": "code",
   "execution_count": 23,
   "id": "5fd69e3e-03c7-481e-8a23-97ab6d7896dd",
   "metadata": {},
   "outputs": [
    {
     "data": {
      "text/plain": [
       "array([ 0.        ,  0.84147098,  0.90929743,  0.14112001, -0.7568025 ,\n",
       "       -0.95892427, -0.2794155 ,  0.6569866 ,  0.98935825,  0.41211849,\n",
       "       -0.54402111])"
      ]
     },
     "execution_count": 23,
     "metadata": {},
     "output_type": "execute_result"
    }
   ],
   "source": [
    "np.sin(arr1)"
   ]
  },
  {
   "cell_type": "code",
   "execution_count": 24,
   "id": "4a2ef21c-d59d-46e7-aa6e-24100f3aa82d",
   "metadata": {},
   "outputs": [
    {
     "data": {
      "text/plain": [
       "array([ 1.        ,  0.54030231, -0.41614684, -0.9899925 , -0.65364362,\n",
       "        0.28366219,  0.96017029,  0.75390225, -0.14550003, -0.91113026,\n",
       "       -0.83907153])"
      ]
     },
     "execution_count": 24,
     "metadata": {},
     "output_type": "execute_result"
    }
   ],
   "source": [
    "np.cos(arr1)"
   ]
  },
  {
   "cell_type": "code",
   "execution_count": null,
   "id": "756cde5c-fec6-48dc-9812-320c9bcab697",
   "metadata": {},
   "outputs": [],
   "source": []
  }
 ],
 "metadata": {
  "kernelspec": {
   "display_name": "Python 3 (ipykernel)",
   "language": "python",
   "name": "python3"
  },
  "language_info": {
   "codemirror_mode": {
    "name": "ipython",
    "version": 3
   },
   "file_extension": ".py",
   "mimetype": "text/x-python",
   "name": "python",
   "nbconvert_exporter": "python",
   "pygments_lexer": "ipython3",
   "version": "3.11.7"
  }
 },
 "nbformat": 4,
 "nbformat_minor": 5
}
