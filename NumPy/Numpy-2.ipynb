{
 "cells": [
  {
   "cell_type": "markdown",
   "id": "cd420fce-b713-4a5f-932b-b662fd7003d7",
   "metadata": {},
   "source": [
    "# Numpy Indexing and Selection"
   ]
  },
  {
   "cell_type": "code",
   "execution_count": 1,
   "id": "db5f4b0a-76c8-4369-b4a7-8da62ebe6cf7",
   "metadata": {},
   "outputs": [],
   "source": [
    "import numpy as np"
   ]
  },
  {
   "cell_type": "code",
   "execution_count": 2,
   "id": "8ab36bf8-736d-4838-a41a-a4adab9be526",
   "metadata": {},
   "outputs": [],
   "source": [
    "arr = np.arange(11)"
   ]
  },
  {
   "cell_type": "code",
   "execution_count": 3,
   "id": "ae3af239-ce51-4acc-abb2-860c647f5251",
   "metadata": {},
   "outputs": [
    {
     "data": {
      "text/plain": [
       "array([ 0,  1,  2,  3,  4,  5,  6,  7,  8,  9, 10])"
      ]
     },
     "execution_count": 3,
     "metadata": {},
     "output_type": "execute_result"
    }
   ],
   "source": [
    "arr"
   ]
  },
  {
   "cell_type": "markdown",
   "id": "40bfe3b9-e6c2-4a3f-8a52-dc31553bdc47",
   "metadata": {},
   "source": [
    "## Accessing the elements from the array"
   ]
  },
  {
   "cell_type": "code",
   "execution_count": 4,
   "id": "17199ca8-6282-4429-9878-7e7b22354eee",
   "metadata": {},
   "outputs": [
    {
     "data": {
      "text/plain": [
       "7"
      ]
     },
     "execution_count": 4,
     "metadata": {},
     "output_type": "execute_result"
    }
   ],
   "source": [
    "arr[7]"
   ]
  },
  {
   "cell_type": "markdown",
   "id": "60c814d2-f60a-4680-84a0-18bb30ffbf13",
   "metadata": {},
   "source": [
    "## Array Slicing\n",
    "* Used to access some part of array.\n",
    "##### <p style=\"color: blue;\">Note that in below example, the upper limit is excluded.</p>"
   ]
  },
  {
   "cell_type": "code",
   "execution_count": 5,
   "id": "19e5d217-8f6b-4415-a369-56aefa78b19a",
   "metadata": {},
   "outputs": [
    {
     "data": {
      "text/plain": [
       "array([0, 1, 2, 3, 4])"
      ]
     },
     "execution_count": 5,
     "metadata": {},
     "output_type": "execute_result"
    }
   ],
   "source": [
    "arr[0:5]"
   ]
  },
  {
   "cell_type": "code",
   "execution_count": 7,
   "id": "04dd4bee-1b99-4496-bb49-7cf0ba67db79",
   "metadata": {},
   "outputs": [
    {
     "data": {
      "text/plain": [
       "array([ 5,  6,  7,  8,  9, 10])"
      ]
     },
     "execution_count": 7,
     "metadata": {},
     "output_type": "execute_result"
    }
   ],
   "source": [
    "# Accessing elements from middle to end.\n",
    "arr[5:]"
   ]
  },
  {
   "cell_type": "code",
   "execution_count": 8,
   "id": "b847bf5b-54b5-4dd0-892d-797499f98d44",
   "metadata": {},
   "outputs": [
    {
     "data": {
      "text/plain": [
       "array([ 0,  2,  4,  6,  8, 10])"
      ]
     },
     "execution_count": 8,
     "metadata": {},
     "output_type": "execute_result"
    }
   ],
   "source": [
    "# Accessing every second element in array\n",
    "arr[::2]"
   ]
  },
  {
   "cell_type": "markdown",
   "id": "3e8f547b-9076-4fad-900c-6d7d595d38f5",
   "metadata": {},
   "source": [
    "## Broadcasting\n",
    "Numpy arrays differ from a normal Python list because of their ability to broadcast:\n",
    "##### <p style=\"color: green;\">Broadcasting means, setting a value with index range.</p>"
   ]
  },
  {
   "cell_type": "code",
   "execution_count": 14,
   "id": "e7ca6be7-d8df-4d68-821e-696d8853dc1a",
   "metadata": {},
   "outputs": [],
   "source": [
    "arr[0:5] = 100"
   ]
  },
  {
   "cell_type": "code",
   "execution_count": 15,
   "id": "208e76d2-4a35-4a66-8623-ce4afff5e9fe",
   "metadata": {},
   "outputs": [
    {
     "data": {
      "text/plain": [
       "array([100, 100, 100, 100, 100,   5,   6,   7,   8,   9,  10])"
      ]
     },
     "execution_count": 15,
     "metadata": {},
     "output_type": "execute_result"
    }
   ],
   "source": [
    "arr\n"
   ]
  },
  {
   "cell_type": "code",
   "execution_count": 18,
   "id": "51c339d1-2d66-4554-9be6-2b326c6cb4bd",
   "metadata": {},
   "outputs": [],
   "source": [
    "arr = np.arange(0,11)"
   ]
  },
  {
   "cell_type": "code",
   "execution_count": 19,
   "id": "88cfda25-492d-406e-8d7a-f1ae16e10528",
   "metadata": {},
   "outputs": [
    {
     "data": {
      "text/plain": [
       "array([ 0,  1,  2,  3,  4,  5,  6,  7,  8,  9, 10])"
      ]
     },
     "execution_count": 19,
     "metadata": {},
     "output_type": "execute_result"
    }
   ],
   "source": [
    "arr"
   ]
  },
  {
   "cell_type": "markdown",
   "id": "b1c99626-14b0-4910-ae17-65b09d7602c9",
   "metadata": {},
   "source": [
    "### Important Note on Slice."
   ]
  },
  {
   "cell_type": "code",
   "execution_count": 20,
   "id": "596106c2-9d0d-4716-9ac1-2868903b23b9",
   "metadata": {},
   "outputs": [],
   "source": [
    "slice_of_arr = arr[:6]"
   ]
  },
  {
   "cell_type": "code",
   "execution_count": 21,
   "id": "1c31c9e4-477f-4e6c-881e-7d348d6b0565",
   "metadata": {},
   "outputs": [
    {
     "data": {
      "text/plain": [
       "array([0, 1, 2, 3, 4, 5])"
      ]
     },
     "execution_count": 21,
     "metadata": {},
     "output_type": "execute_result"
    }
   ],
   "source": [
    "slice_of_arr"
   ]
  },
  {
   "cell_type": "code",
   "execution_count": 22,
   "id": "2680cb02-4948-4386-907f-c20b5ba0c52e",
   "metadata": {},
   "outputs": [],
   "source": [
    "# changing the value of slice_of_arr through Broadcastng.\n",
    "slice_of_arr[0:6] = 99"
   ]
  },
  {
   "cell_type": "code",
   "execution_count": 23,
   "id": "66a5bccc-b68e-40bc-8267-366d3dace1e7",
   "metadata": {},
   "outputs": [
    {
     "data": {
      "text/plain": [
       "array([99, 99, 99, 99, 99, 99])"
      ]
     },
     "execution_count": 23,
     "metadata": {},
     "output_type": "execute_result"
    }
   ],
   "source": [
    "slice_of_arr"
   ]
  },
  {
   "cell_type": "markdown",
   "id": "17ba007f-c9c8-447d-8c47-66f98e72eeba",
   "metadata": {},
   "source": [
    "<p style = \"color: green;\">Now, note the values in original array i.e. \"arr\" has also changed.</p>"
   ]
  },
  {
   "cell_type": "code",
   "execution_count": 24,
   "id": "baa99b46-726e-4ba3-991c-751f8dc70361",
   "metadata": {},
   "outputs": [
    {
     "data": {
      "text/plain": [
       "array([99, 99, 99, 99, 99, 99,  6,  7,  8,  9, 10])"
      ]
     },
     "execution_count": 24,
     "metadata": {},
     "output_type": "execute_result"
    }
   ],
   "source": [
    "arr"
   ]
  },
  {
   "cell_type": "markdown",
   "id": "9715537c-d323-46c6-b6ee-c88aee9c4538",
   "metadata": {},
   "source": [
    "#### This is because, `slice_of_arr` was not a separate array. It was the `view/reference` of `arr`. \n",
    "#### Numpy uses this feature to avoid memory problems.\n"
   ]
  },
  {
   "cell_type": "markdown",
   "id": "bfa5573e-c86a-488c-a685-f7a7833e49fb",
   "metadata": {},
   "source": [
    "### To get a copy we have to specify it explicitly."
   ]
  },
  {
   "cell_type": "code",
   "execution_count": 25,
   "id": "df3de3c5-f965-4345-b956-72774f078d59",
   "metadata": {},
   "outputs": [],
   "source": [
    "arr_copy = arr.copy()"
   ]
  },
  {
   "cell_type": "code",
   "execution_count": 26,
   "id": "c7e1e852-b327-4407-abc4-dd58d28026a7",
   "metadata": {},
   "outputs": [
    {
     "data": {
      "text/plain": [
       "array([99, 99, 99, 99, 99, 99,  6,  7,  8,  9, 10])"
      ]
     },
     "execution_count": 26,
     "metadata": {},
     "output_type": "execute_result"
    }
   ],
   "source": [
    "arr"
   ]
  },
  {
   "cell_type": "code",
   "execution_count": 27,
   "id": "4d690abc-d5ad-4bba-a9ba-338ea8f296ab",
   "metadata": {},
   "outputs": [
    {
     "data": {
      "text/plain": [
       "array([99, 99, 99, 99, 99, 99,  6,  7,  8,  9, 10])"
      ]
     },
     "execution_count": 27,
     "metadata": {},
     "output_type": "execute_result"
    }
   ],
   "source": [
    "arr_copy"
   ]
  },
  {
   "cell_type": "code",
   "execution_count": 28,
   "id": "eb6d00e6-8fa7-4085-94ba-8bfc572822bb",
   "metadata": {},
   "outputs": [],
   "source": [
    "arr_copy[:] = 100 "
   ]
  },
  {
   "cell_type": "code",
   "execution_count": 29,
   "id": "964d4d01-087d-4da2-9a1d-fa05980aec7c",
   "metadata": {},
   "outputs": [
    {
     "data": {
      "text/plain": [
       "array([100, 100, 100, 100, 100, 100, 100, 100, 100, 100, 100])"
      ]
     },
     "execution_count": 29,
     "metadata": {},
     "output_type": "execute_result"
    }
   ],
   "source": [
    "arr_copy"
   ]
  },
  {
   "cell_type": "code",
   "execution_count": 30,
   "id": "2fbb07b0-83e0-40df-9e26-011b9fcce854",
   "metadata": {},
   "outputs": [
    {
     "data": {
      "text/plain": [
       "array([99, 99, 99, 99, 99, 99,  6,  7,  8,  9, 10])"
      ]
     },
     "execution_count": 30,
     "metadata": {},
     "output_type": "execute_result"
    }
   ],
   "source": [
    "arr"
   ]
  },
  {
   "cell_type": "markdown",
   "id": "a9deb340-8067-4daa-afde-b1ddf65bdea2",
   "metadata": {},
   "source": [
    "## Indexing a 2-D Array."
   ]
  },
  {
   "cell_type": "code",
   "execution_count": 32,
   "id": "763561c5-45d1-437f-b66f-4ba2e5930f75",
   "metadata": {},
   "outputs": [],
   "source": [
    "arr_2d = np.array([[5,10,15], [20,25,30], [50,60,70]])"
   ]
  },
  {
   "cell_type": "code",
   "execution_count": 33,
   "id": "0a59108d-c861-4b1f-947a-58fb5d1c819d",
   "metadata": {},
   "outputs": [
    {
     "data": {
      "text/plain": [
       "array([[ 5, 10, 15],\n",
       "       [20, 25, 30],\n",
       "       [50, 60, 70]])"
      ]
     },
     "execution_count": 33,
     "metadata": {},
     "output_type": "execute_result"
    }
   ],
   "source": [
    "arr_2d"
   ]
  },
  {
   "cell_type": "code",
   "execution_count": 34,
   "id": "41db8c45-473e-40b0-aa8e-71cf1ec90a6a",
   "metadata": {},
   "outputs": [
    {
     "data": {
      "text/plain": [
       "array([ 5, 10, 15])"
      ]
     },
     "execution_count": 34,
     "metadata": {},
     "output_type": "execute_result"
    }
   ],
   "source": [
    "# Accessing whole row.\n",
    "arr_2d[0]"
   ]
  },
  {
   "cell_type": "markdown",
   "id": "167d10a9-5837-4419-a570-8c26953da780",
   "metadata": {},
   "source": [
    "#### 1. Using double bracket notation"
   ]
  },
  {
   "cell_type": "code",
   "execution_count": 36,
   "id": "059fc261-2036-4949-9f52-ee4cacfa3e36",
   "metadata": {},
   "outputs": [
    {
     "data": {
      "text/plain": [
       "25"
      ]
     },
     "execution_count": 36,
     "metadata": {},
     "output_type": "execute_result"
    }
   ],
   "source": [
    "arr_2d[1][1]"
   ]
  },
  {
   "cell_type": "code",
   "execution_count": 37,
   "id": "04239eb3-d907-4e54-b2d9-1f4c1c995e1d",
   "metadata": {},
   "outputs": [
    {
     "data": {
      "text/plain": [
       "70"
      ]
     },
     "execution_count": 37,
     "metadata": {},
     "output_type": "execute_result"
    }
   ],
   "source": [
    "arr_2d[2][2]"
   ]
  },
  {
   "cell_type": "markdown",
   "id": "cedd2be4-f126-4da7-ad19-4f798482f89c",
   "metadata": {},
   "source": [
    "#### 2. Using comma and single bracket notation"
   ]
  },
  {
   "cell_type": "code",
   "execution_count": 38,
   "id": "08418497-be07-4dab-b97b-bb3f034ff913",
   "metadata": {},
   "outputs": [
    {
     "data": {
      "text/plain": [
       "30"
      ]
     },
     "execution_count": 38,
     "metadata": {},
     "output_type": "execute_result"
    }
   ],
   "source": [
    "arr_2d[1,2]"
   ]
  },
  {
   "cell_type": "markdown",
   "id": "e6e4534f-5fb6-4392-87fd-c75e4427553b",
   "metadata": {},
   "source": [
    "the first number represents row and second one represents column."
   ]
  },
  {
   "cell_type": "markdown",
   "id": "02f04655-7a1f-4504-a73d-ebf390e6ca6c",
   "metadata": {},
   "source": [
    "### 2-D array slicing"
   ]
  },
  {
   "cell_type": "code",
   "execution_count": 40,
   "id": "4e8a41d0-e809-43b8-9fe6-e406b7aa4f8e",
   "metadata": {},
   "outputs": [
    {
     "data": {
      "text/plain": [
       "array([[10, 15],\n",
       "       [25, 30]])"
      ]
     },
     "execution_count": 40,
     "metadata": {},
     "output_type": "execute_result"
    }
   ],
   "source": [
    "arr_2d[:2, 1:]"
   ]
  },
  {
   "cell_type": "code",
   "execution_count": 41,
   "id": "fe7bcbc5-1e8b-4d5b-8f8e-b9dba8258252",
   "metadata": {},
   "outputs": [
    {
     "data": {
      "text/plain": [
       "array([[ 5],\n",
       "       [20],\n",
       "       [50]])"
      ]
     },
     "execution_count": 41,
     "metadata": {},
     "output_type": "execute_result"
    }
   ],
   "source": [
    "arr_2d[:, :1]"
   ]
  },
  {
   "cell_type": "code",
   "execution_count": 42,
   "id": "139be721-c18c-44a6-b9c2-56c489c8c987",
   "metadata": {},
   "outputs": [
    {
     "data": {
      "text/plain": [
       "array([[20, 25, 30],\n",
       "       [50, 60, 70]])"
      ]
     },
     "execution_count": 42,
     "metadata": {},
     "output_type": "execute_result"
    }
   ],
   "source": [
    "arr_2d[1:, :]"
   ]
  },
  {
   "cell_type": "code",
   "execution_count": 43,
   "id": "2dcd0296-b330-480c-bbf7-17f5d0757b80",
   "metadata": {},
   "outputs": [
    {
     "data": {
      "text/plain": [
       "array([[50, 60, 70]])"
      ]
     },
     "execution_count": 43,
     "metadata": {},
     "output_type": "execute_result"
    }
   ],
   "source": [
    "arr_2d[2:, :]"
   ]
  },
  {
   "cell_type": "markdown",
   "id": "01f93b39-db2f-44e3-bd9a-9fd69756959c",
   "metadata": {},
   "source": [
    "## Conditional Selection"
   ]
  },
  {
   "cell_type": "code",
   "execution_count": 44,
   "id": "80f92195-68da-4e07-8b7b-eca48ca3ea8d",
   "metadata": {},
   "outputs": [],
   "source": [
    "arr = np.arange(11)"
   ]
  },
  {
   "cell_type": "code",
   "execution_count": 45,
   "id": "317d4c63-3972-4501-8be9-7d0f584f57d3",
   "metadata": {},
   "outputs": [
    {
     "data": {
      "text/plain": [
       "array([ 0,  1,  2,  3,  4,  5,  6,  7,  8,  9, 10])"
      ]
     },
     "execution_count": 45,
     "metadata": {},
     "output_type": "execute_result"
    }
   ],
   "source": [
    "arr"
   ]
  },
  {
   "cell_type": "markdown",
   "id": "49a70255-f2cb-4890-a358-8eba9555e0c1",
   "metadata": {},
   "source": [
    "Using a `comparision operator` on an array will return the boolean array."
   ]
  },
  {
   "cell_type": "code",
   "execution_count": 46,
   "id": "67148786-a11d-4687-8acd-471bd19fe71e",
   "metadata": {},
   "outputs": [],
   "source": [
    "bool_arr = arr > 5"
   ]
  },
  {
   "cell_type": "code",
   "execution_count": 47,
   "id": "1203cd81-0548-4be3-a5f3-22ed313cd739",
   "metadata": {},
   "outputs": [
    {
     "data": {
      "text/plain": [
       "array([False, False, False, False, False, False,  True,  True,  True,\n",
       "        True,  True])"
      ]
     },
     "execution_count": 47,
     "metadata": {},
     "output_type": "execute_result"
    }
   ],
   "source": [
    "bool_arr"
   ]
  },
  {
   "cell_type": "code",
   "execution_count": 48,
   "id": "94808de9-3b8f-452f-a570-2cdcc5fe159c",
   "metadata": {},
   "outputs": [
    {
     "data": {
      "text/plain": [
       "array([ 6,  7,  8,  9, 10])"
      ]
     },
     "execution_count": 48,
     "metadata": {},
     "output_type": "execute_result"
    }
   ],
   "source": [
    "arr[bool_arr]"
   ]
  },
  {
   "cell_type": "markdown",
   "id": "597abf83-8f32-4b53-9ab6-8df70b1a515b",
   "metadata": {},
   "source": [
    "##### Doing it directly"
   ]
  },
  {
   "cell_type": "code",
   "execution_count": 51,
   "id": "54f7e8c8-255b-4e47-a69f-8680d8c76046",
   "metadata": {},
   "outputs": [
    {
     "data": {
      "text/plain": [
       "array([ 6,  7,  8,  9, 10])"
      ]
     },
     "execution_count": 51,
     "metadata": {},
     "output_type": "execute_result"
    }
   ],
   "source": [
    "arr[arr>5]"
   ]
  },
  {
   "cell_type": "markdown",
   "id": "481c5a2a-fc6f-4eeb-80e5-5e1afd6be1bb",
   "metadata": {},
   "source": [
    "##### Grabbing all the elements that are less than 3."
   ]
  },
  {
   "cell_type": "code",
   "execution_count": 50,
   "id": "f592d04d-4431-4685-8a3c-a9bd5a92641b",
   "metadata": {},
   "outputs": [
    {
     "data": {
      "text/plain": [
       "array([0, 1, 2])"
      ]
     },
     "execution_count": 50,
     "metadata": {},
     "output_type": "execute_result"
    }
   ],
   "source": [
    "arr[arr<3]"
   ]
  },
  {
   "cell_type": "markdown",
   "id": "fc940f29-b91a-4b2d-9fca-6c27c9bc6484",
   "metadata": {},
   "source": [
    "## Practice\n"
   ]
  },
  {
   "cell_type": "code",
   "execution_count": 52,
   "id": "608b2893-5ccd-451b-af43-af9b65f931a0",
   "metadata": {},
   "outputs": [],
   "source": [
    "arr_2d = np.arange(50).reshape(5,10)"
   ]
  },
  {
   "cell_type": "code",
   "execution_count": 53,
   "id": "55b48889-dc45-4bbe-8f57-a07a385c550e",
   "metadata": {},
   "outputs": [
    {
     "data": {
      "text/plain": [
       "array([[ 0,  1,  2,  3,  4,  5,  6,  7,  8,  9],\n",
       "       [10, 11, 12, 13, 14, 15, 16, 17, 18, 19],\n",
       "       [20, 21, 22, 23, 24, 25, 26, 27, 28, 29],\n",
       "       [30, 31, 32, 33, 34, 35, 36, 37, 38, 39],\n",
       "       [40, 41, 42, 43, 44, 45, 46, 47, 48, 49]])"
      ]
     },
     "execution_count": 53,
     "metadata": {},
     "output_type": "execute_result"
    }
   ],
   "source": [
    "arr_2d"
   ]
  },
  {
   "cell_type": "code",
   "execution_count": 56,
   "id": "c993ba7b-0ec5-4317-b6c6-12e95344883e",
   "metadata": {},
   "outputs": [
    {
     "data": {
      "text/plain": [
       "array([[12, 13, 14],\n",
       "       [22, 23, 24],\n",
       "       [32, 33, 34]])"
      ]
     },
     "execution_count": 56,
     "metadata": {},
     "output_type": "execute_result"
    }
   ],
   "source": [
    "arr_2d[1:4, 2:5]"
   ]
  },
  {
   "cell_type": "code",
   "execution_count": 60,
   "id": "dc3f1766-2c9b-4759-8ae1-3b466bef9061",
   "metadata": {},
   "outputs": [
    {
     "data": {
      "text/plain": [
       "array([ 6,  7,  8,  9, 10, 11, 12, 13, 14, 15, 16, 17, 18, 19, 20, 21, 22,\n",
       "       23, 24, 25, 26, 27, 28, 29, 30, 31, 32, 33, 34, 35, 36, 37, 38, 39,\n",
       "       40, 41, 42, 43, 44, 45, 46, 47, 48, 49])"
      ]
     },
     "execution_count": 60,
     "metadata": {},
     "output_type": "execute_result"
    }
   ],
   "source": [
    "arr_2d[arr_2d>5]"
   ]
  },
  {
   "cell_type": "code",
   "execution_count": null,
   "id": "982ef8b2-b387-46e6-8ea8-87888e7ea791",
   "metadata": {},
   "outputs": [],
   "source": []
  }
 ],
 "metadata": {
  "kernelspec": {
   "display_name": "Python 3 (ipykernel)",
   "language": "python",
   "name": "python3"
  },
  "language_info": {
   "codemirror_mode": {
    "name": "ipython",
    "version": 3
   },
   "file_extension": ".py",
   "mimetype": "text/x-python",
   "name": "python",
   "nbconvert_exporter": "python",
   "pygments_lexer": "ipython3",
   "version": "3.11.7"
  }
 },
 "nbformat": 4,
 "nbformat_minor": 5
}
