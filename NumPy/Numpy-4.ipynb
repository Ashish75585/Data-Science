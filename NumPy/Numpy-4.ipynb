{
 "cells": [
  {
   "cell_type": "markdown",
   "id": "6f0c7fe5-6843-47ba-b7cf-23c80a89adb9",
   "metadata": {},
   "source": [
    "# Iterating through Array\n",
    "Iteration means going through the array one by one.\n"
   ]
  },
  {
   "cell_type": "markdown",
   "id": "ee51070a-29fa-4465-9649-65d348a162ff",
   "metadata": {},
   "source": [
    "1. For a `1-D` array, we required a single `for` loop.\n",
    "2. For a `2-D` array, we required a two nested `for` loops and so on."
   ]
  },
  {
   "cell_type": "markdown",
   "id": "8daa1334-ae29-4745-8806-4703d81d4903",
   "metadata": {},
   "source": [
    "## 1. Iterating array using nditer() method\n",
    "In basic for loops, iterating through each scalar of an array we need to use `n` for loops which can be difficult to write for arrays with very high dimensionality.</br>\n",
    "Instead, we can usev`nditer()` method to make the iteration simple.\n",
    "* `nditer()` takes array as a argument through which you want to iterate."
   ]
  },
  {
   "cell_type": "code",
   "execution_count": 1,
   "id": "e8b6318c-5fb5-4869-ac64-0a5485e857a9",
   "metadata": {},
   "outputs": [],
   "source": [
    "import numpy as np"
   ]
  },
  {
   "cell_type": "code",
   "execution_count": 2,
   "id": "4e5fc61d-75d3-43ab-8d8a-aac7b9cbe533",
   "metadata": {},
   "outputs": [],
   "source": [
    "arr = np.array([[[1,2], [3,4]], [[5,6],[7,8]]])"
   ]
  },
  {
   "cell_type": "code",
   "execution_count": 3,
   "id": "7dd3f0b3-407c-456d-a282-674670ccc823",
   "metadata": {},
   "outputs": [
    {
     "data": {
      "text/plain": [
       "array([[[1, 2],\n",
       "        [3, 4]],\n",
       "\n",
       "       [[5, 6],\n",
       "        [7, 8]]])"
      ]
     },
     "execution_count": 3,
     "metadata": {},
     "output_type": "execute_result"
    }
   ],
   "source": [
    "arr"
   ]
  },
  {
   "cell_type": "code",
   "execution_count": 4,
   "id": "c37dc0d3-6447-4d62-ac66-d778ad5ff0d7",
   "metadata": {},
   "outputs": [
    {
     "name": "stdout",
     "output_type": "stream",
     "text": [
      "1\n",
      "2\n",
      "3\n",
      "4\n",
      "5\n",
      "6\n",
      "7\n",
      "8\n"
     ]
    }
   ],
   "source": [
    "for x in np.nditer(arr): \n",
    "    print(x)"
   ]
  },
  {
   "cell_type": "markdown",
   "id": "9187ae82-d85a-42d5-aa46-af484f42a4de",
   "metadata": {},
   "source": [
    "### Iterating through different step size."
   ]
  },
  {
   "cell_type": "code",
   "execution_count": 6,
   "id": "39693b2b-c65d-4213-9497-5b676a5ae595",
   "metadata": {},
   "outputs": [
    {
     "name": "stdout",
     "output_type": "stream",
     "text": [
      "1\n",
      "2\n",
      "5\n",
      "6\n"
     ]
    }
   ],
   "source": [
    "for x in np.nditer(arr[:, ::2]):\n",
    "    print(x)"
   ]
  },
  {
   "cell_type": "markdown",
   "id": "661c8f76-ef79-43b2-8dfe-c63860618536",
   "metadata": {},
   "source": [
    "## 2. Enumerated iteration using ndenumerate()\n",
    "* Enumeration means mentioning sequence number of somethings one by one.\n",
    "* Sometimes we requires corresponding index of the element while iterating, `ndenumerate()` method can be used for those cases."
   ]
  },
  {
   "cell_type": "code",
   "execution_count": 7,
   "id": "befd5375-9118-44c2-9371-8a2fd0884cf7",
   "metadata": {},
   "outputs": [
    {
     "name": "stdout",
     "output_type": "stream",
     "text": [
      "(0,) 1\n",
      "(1,) 2\n",
      "(2,) 3\n"
     ]
    }
   ],
   "source": [
    "# for 1-D array.\n",
    "arr = np.array([1,2,3])\n",
    "\n",
    "for idx, x in np.ndenumerate(arr):\n",
    "    print(idx, x)"
   ]
  },
  {
   "cell_type": "code",
   "execution_count": 8,
   "id": "04b802ad-54b8-46e6-a8fc-0aeaeb4e3f67",
   "metadata": {},
   "outputs": [
    {
     "name": "stdout",
     "output_type": "stream",
     "text": [
      "(0, 0) 1\n",
      "(0, 1) 2\n",
      "(0, 2) 3\n",
      "(0, 3) 4\n",
      "(1, 0) 5\n",
      "(1, 1) 6\n",
      "(1, 2) 7\n",
      "(1, 3) 8\n"
     ]
    }
   ],
   "source": [
    "# for 2-D array.\n",
    "arr = np.array([[1,2,3,4], [5,6,7,8]])\n",
    "\n",
    "for idx, x in np.ndenumerate(arr):\n",
    "    print(idx, x)"
   ]
  },
  {
   "cell_type": "code",
   "execution_count": null,
   "id": "84e24028-397a-4ab8-bceb-4d09e6d82d92",
   "metadata": {},
   "outputs": [],
   "source": []
  }
 ],
 "metadata": {
  "kernelspec": {
   "display_name": "Python 3 (ipykernel)",
   "language": "python",
   "name": "python3"
  },
  "language_info": {
   "codemirror_mode": {
    "name": "ipython",
    "version": 3
   },
   "file_extension": ".py",
   "mimetype": "text/x-python",
   "name": "python",
   "nbconvert_exporter": "python",
   "pygments_lexer": "ipython3",
   "version": "3.11.7"
  }
 },
 "nbformat": 4,
 "nbformat_minor": 5
}
