{
 "cells": [
  {
   "cell_type": "markdown",
   "id": "8a681cdd-2798-4a59-811e-7e8aa2260565",
   "metadata": {},
   "source": [
    "# NumPy Array\n"
   ]
  },
  {
   "cell_type": "markdown",
   "id": "c2fa584a-2a74-4599-875e-1191e97da51a",
   "metadata": {},
   "source": [
    "#### <p style=\"color: green\">Converting Python list to an Array.</p>"
   ]
  },
  {
   "cell_type": "code",
   "execution_count": 4,
   "id": "cb5b9152-beb8-4506-af34-34502cb9beca",
   "metadata": {},
   "outputs": [],
   "source": [
    "my_list = [1,2,3]"
   ]
  },
  {
   "cell_type": "code",
   "execution_count": 5,
   "id": "85894d86-3662-4f68-a58c-972bc4950ef2",
   "metadata": {},
   "outputs": [],
   "source": [
    "import numpy as np\n"
   ]
  },
  {
   "cell_type": "code",
   "execution_count": 6,
   "id": "94320fe4-ce55-4e95-ba9a-da54112422b8",
   "metadata": {},
   "outputs": [],
   "source": [
    "arr = np.array(my_list)"
   ]
  },
  {
   "cell_type": "code",
   "execution_count": 7,
   "id": "c8f6393e-f942-4b46-8ccd-c87ad545522d",
   "metadata": {},
   "outputs": [
    {
     "data": {
      "text/plain": [
       "array([1, 2, 3])"
      ]
     },
     "execution_count": 7,
     "metadata": {},
     "output_type": "execute_result"
    }
   ],
   "source": [
    "arr"
   ]
  },
  {
   "cell_type": "markdown",
   "id": "f1d456d7-982b-435a-a36d-0c8ee38317a0",
   "metadata": {},
   "source": [
    "##### Creating 2-D array from list of list"
   ]
  },
  {
   "cell_type": "code",
   "execution_count": 8,
   "id": "4fd9262e-9cc8-48d9-a689-9e6a4829bb48",
   "metadata": {},
   "outputs": [],
   "source": [
    "my_mat = [[1,2,3],[4,5,6],[7,8,9]]"
   ]
  },
  {
   "cell_type": "code",
   "execution_count": 9,
   "id": "f2be5634-0d49-46df-b13a-b8a00838fe8d",
   "metadata": {},
   "outputs": [
    {
     "data": {
      "text/plain": [
       "array([[1, 2, 3],\n",
       "       [4, 5, 6],\n",
       "       [7, 8, 9]])"
      ]
     },
     "execution_count": 9,
     "metadata": {},
     "output_type": "execute_result"
    }
   ],
   "source": [
    "np.array(my_mat)"
   ]
  },
  {
   "cell_type": "markdown",
   "id": "e536cfa0-b5b0-49da-bf6b-f3c530a89f5e",
   "metadata": {},
   "source": [
    "## np.arange() function\n",
    "* works similar to range function.\n",
    "* Syntax:\n",
    "    * `np.arange(initial_point, final_point(excluded), steps)`"
   ]
  },
  {
   "cell_type": "code",
   "execution_count": 10,
   "id": "21e92674-e26b-485b-84e9-fe4fed2e2a60",
   "metadata": {},
   "outputs": [
    {
     "data": {
      "text/plain": [
       "array([0, 1, 2, 3, 4, 5, 6, 7, 8, 9])"
      ]
     },
     "execution_count": 10,
     "metadata": {},
     "output_type": "execute_result"
    }
   ],
   "source": [
    "np.arange(0, 10)"
   ]
  },
  {
   "cell_type": "code",
   "execution_count": 11,
   "id": "02066579-17ad-4e94-abb1-783f3bfb798c",
   "metadata": {},
   "outputs": [
    {
     "data": {
      "text/plain": [
       "array([ 0,  2,  4,  6,  8, 10])"
      ]
     },
     "execution_count": 11,
     "metadata": {},
     "output_type": "execute_result"
    }
   ],
   "source": [
    "np.arange(0, 11, 2)"
   ]
  },
  {
   "cell_type": "markdown",
   "id": "f4980745-5eed-4c9f-a883-d25129d176b3",
   "metadata": {},
   "source": [
    "## Array of Zeros and Ones"
   ]
  },
  {
   "cell_type": "code",
   "execution_count": 12,
   "id": "2844589b-95cc-4ddd-8e45-edcab53f1fc2",
   "metadata": {},
   "outputs": [
    {
     "data": {
      "text/plain": [
       "array([0., 0., 0., 0., 0.])"
      ]
     },
     "execution_count": 12,
     "metadata": {},
     "output_type": "execute_result"
    }
   ],
   "source": [
    "np.zeros(5)"
   ]
  },
  {
   "cell_type": "code",
   "execution_count": 13,
   "id": "44aa26bd-1baa-450b-9a3a-ba8579cf7fa9",
   "metadata": {},
   "outputs": [
    {
     "data": {
      "text/plain": [
       "array([[0., 0., 0.],\n",
       "       [0., 0., 0.],\n",
       "       [0., 0., 0.]])"
      ]
     },
     "execution_count": 13,
     "metadata": {},
     "output_type": "execute_result"
    }
   ],
   "source": [
    "np.zeros((3,3))"
   ]
  },
  {
   "cell_type": "code",
   "execution_count": 14,
   "id": "e2b74e33-1662-46b6-8e3e-8ca7faf42cab",
   "metadata": {},
   "outputs": [
    {
     "data": {
      "text/plain": [
       "array([1., 1., 1., 1., 1.])"
      ]
     },
     "execution_count": 14,
     "metadata": {},
     "output_type": "execute_result"
    }
   ],
   "source": [
    "np.ones(5)"
   ]
  },
  {
   "cell_type": "code",
   "execution_count": 15,
   "id": "28404252-4f87-4dff-a3c5-26bfc117d17f",
   "metadata": {},
   "outputs": [
    {
     "data": {
      "text/plain": [
       "array([[1., 1., 1., 1.],\n",
       "       [1., 1., 1., 1.],\n",
       "       [1., 1., 1., 1.],\n",
       "       [1., 1., 1., 1.]])"
      ]
     },
     "execution_count": 15,
     "metadata": {},
     "output_type": "execute_result"
    }
   ],
   "source": [
    "np.ones((4,4))"
   ]
  },
  {
   "cell_type": "code",
   "execution_count": 16,
   "id": "60ab923b-4192-427c-a42b-2819db8ef457",
   "metadata": {},
   "outputs": [
    {
     "data": {
      "text/plain": [
       "array([[1., 1., 1., 1.],\n",
       "       [1., 1., 1., 1.],\n",
       "       [1., 1., 1., 1.]])"
      ]
     },
     "execution_count": 16,
     "metadata": {},
     "output_type": "execute_result"
    }
   ],
   "source": [
    "np.ones((3,4))"
   ]
  },
  {
   "cell_type": "markdown",
   "id": "5cc161bb-a231-43f1-8bdd-0f00a36d5f9b",
   "metadata": {},
   "source": [
    "## linspace() function\n",
    "* `linspace()` funtion returns evenly spaced numbers over a specified interval.\r\n",
    "* Syntax:    \r\n",
    "  * `numpy.linspace(start, stop, num=(default)=0)`\r\n"
   ]
  },
  {
   "cell_type": "code",
   "execution_count": 17,
   "id": "ed68800a-2d4b-45a4-a237-8588d20c7cc2",
   "metadata": {},
   "outputs": [
    {
     "data": {
      "text/plain": [
       "array([ 0.,  5., 10.])"
      ]
     },
     "execution_count": 17,
     "metadata": {},
     "output_type": "execute_result"
    }
   ],
   "source": [
    "np.linspace(0,10, 3)"
   ]
  },
  {
   "cell_type": "code",
   "execution_count": 18,
   "id": "43efbc9d-6a7a-4cec-9852-8ca2136287dc",
   "metadata": {},
   "outputs": [
    {
     "data": {
      "text/plain": [
       "array([ 0. ,  7.5, 15. ])"
      ]
     },
     "execution_count": 18,
     "metadata": {},
     "output_type": "execute_result"
    }
   ],
   "source": [
    "np.linspace(0,15,3)"
   ]
  },
  {
   "cell_type": "code",
   "execution_count": 21,
   "id": "345a33d7-5d91-41f0-a8ce-c58566265e19",
   "metadata": {},
   "outputs": [
    {
     "data": {
      "text/plain": [
       "array([ 0.        ,  0.20408163,  0.40816327,  0.6122449 ,  0.81632653,\n",
       "        1.02040816,  1.2244898 ,  1.42857143,  1.63265306,  1.83673469,\n",
       "        2.04081633,  2.24489796,  2.44897959,  2.65306122,  2.85714286,\n",
       "        3.06122449,  3.26530612,  3.46938776,  3.67346939,  3.87755102,\n",
       "        4.08163265,  4.28571429,  4.48979592,  4.69387755,  4.89795918,\n",
       "        5.10204082,  5.30612245,  5.51020408,  5.71428571,  5.91836735,\n",
       "        6.12244898,  6.32653061,  6.53061224,  6.73469388,  6.93877551,\n",
       "        7.14285714,  7.34693878,  7.55102041,  7.75510204,  7.95918367,\n",
       "        8.16326531,  8.36734694,  8.57142857,  8.7755102 ,  8.97959184,\n",
       "        9.18367347,  9.3877551 ,  9.59183673,  9.79591837, 10.        ])"
      ]
     },
     "execution_count": 21,
     "metadata": {},
     "output_type": "execute_result"
    }
   ],
   "source": [
    "np.linspace(0,10)"
   ]
  },
  {
   "cell_type": "markdown",
   "id": "abee3c00-f538-40e4-9f4f-67bf0737f89d",
   "metadata": {},
   "source": [
    "## eye() \n",
    "* this function is used to create Identity matrix.\n",
    "* It takes only single integer argument."
   ]
  },
  {
   "cell_type": "code",
   "execution_count": 22,
   "id": "4984c3ae-a5f3-457b-a0da-75b18e9e8918",
   "metadata": {},
   "outputs": [
    {
     "data": {
      "text/plain": [
       "array([[1., 0., 0., 0.],\n",
       "       [0., 1., 0., 0.],\n",
       "       [0., 0., 1., 0.],\n",
       "       [0., 0., 0., 1.]])"
      ]
     },
     "execution_count": 22,
     "metadata": {},
     "output_type": "execute_result"
    }
   ],
   "source": [
    "np.eye(4)"
   ]
  },
  {
   "cell_type": "markdown",
   "id": "5db9cf99-b448-4ec4-8d3c-5af401a5be81",
   "metadata": {},
   "source": [
    "## Random\n",
    "    we can create array with random numbers with the help of numpy's random functon."
   ]
  },
  {
   "cell_type": "markdown",
   "id": "78b5251a-9756-47cb-89fd-07b9e5725c05",
   "metadata": {},
   "source": [
    "### 1. rand\n",
    "* Create an array of given size, and populate the array with random samples from `unifrom` distribution between [0,1).\n",
    "* Can be used to create both 1-D and 2-D array."
   ]
  },
  {
   "cell_type": "code",
   "execution_count": 23,
   "id": "76c533c3-7c7c-49f7-affa-8ee1debf2455",
   "metadata": {},
   "outputs": [
    {
     "data": {
      "text/plain": [
       "array([0.2873602 , 0.40150151, 0.70171158, 0.86044765, 0.19460924])"
      ]
     },
     "execution_count": 23,
     "metadata": {},
     "output_type": "execute_result"
    }
   ],
   "source": [
    "np.random.rand(5)"
   ]
  },
  {
   "cell_type": "code",
   "execution_count": 24,
   "id": "ff344eb8-7679-4561-b1b9-1aab295e682c",
   "metadata": {},
   "outputs": [
    {
     "data": {
      "text/plain": [
       "array([[0.04896979, 0.40945072, 0.70288613, 0.139029  , 0.61867426],\n",
       "       [0.42880156, 0.74462005, 0.08363024, 0.53111993, 0.79914373],\n",
       "       [0.08293428, 0.92356993, 0.35235041, 0.73213756, 0.2290978 ],\n",
       "       [0.9967131 , 0.72063363, 0.73922922, 0.10824931, 0.90352201],\n",
       "       [0.31139896, 0.95128477, 0.59672523, 0.79277694, 0.14682039]])"
      ]
     },
     "execution_count": 24,
     "metadata": {},
     "output_type": "execute_result"
    }
   ],
   "source": [
    "np.random.rand(5,5)"
   ]
  },
  {
   "cell_type": "markdown",
   "id": "814ba7f9-8160-42cc-9791-8fea18939976",
   "metadata": {},
   "source": [
    "### 2. randn\n",
    "* Create an array of given size, and populate the array with random samples from `Normal` distribution.\n",
    "* Can be used to create both 1-D and 2-D array."
   ]
  },
  {
   "cell_type": "code",
   "execution_count": 26,
   "id": "8fe77806-6c48-4a30-b181-be41bc650254",
   "metadata": {},
   "outputs": [
    {
     "data": {
      "text/plain": [
       "array([-0.46685908,  0.55281985,  2.25903408])"
      ]
     },
     "execution_count": 26,
     "metadata": {},
     "output_type": "execute_result"
    }
   ],
   "source": [
    "np.random.randn(3)"
   ]
  },
  {
   "cell_type": "code",
   "execution_count": 27,
   "id": "166ca842-8118-4b7f-9e40-5d23b4d7b973",
   "metadata": {},
   "outputs": [
    {
     "data": {
      "text/plain": [
       "array([[ 1.39542342, -0.60582664, -0.08911618,  0.3179702 ],\n",
       "       [ 1.47381205, -1.38122493, -2.28482288,  0.98996248],\n",
       "       [-0.79500662, -0.52362084,  0.09949904, -0.73541496],\n",
       "       [ 0.89913302, -1.42312726, -0.3527272 , -0.67306674]])"
      ]
     },
     "execution_count": 27,
     "metadata": {},
     "output_type": "execute_result"
    }
   ],
   "source": [
    "np.random.randn(4,4)"
   ]
  },
  {
   "cell_type": "markdown",
   "id": "d85e8b9c-4d91-45ce-95b2-379c7690a2bc",
   "metadata": {},
   "source": [
    "### 3. randint\n",
    "* Return random integers from low (inclusive) to high (exclusive).\n",
    "* Syntax:\n",
    "  * `randint(low, high, size(default = 1))`"
   ]
  },
  {
   "cell_type": "code",
   "execution_count": 28,
   "id": "42676296-e258-46a8-b168-777df78256c7",
   "metadata": {},
   "outputs": [
    {
     "data": {
      "text/plain": [
       "20"
      ]
     },
     "execution_count": 28,
     "metadata": {},
     "output_type": "execute_result"
    }
   ],
   "source": [
    "np.random.randint(1,100)"
   ]
  },
  {
   "cell_type": "code",
   "execution_count": 29,
   "id": "266f4190-da18-4f2c-9c27-8b3fcdc6bba5",
   "metadata": {},
   "outputs": [
    {
     "data": {
      "text/plain": [
       "array([98, 68,  9, 75, 40, 99, 85, 43, 10, 68,  1, 37, 18,  8, 63, 95, 82,\n",
       "       23,  1, 74])"
      ]
     },
     "execution_count": 29,
     "metadata": {},
     "output_type": "execute_result"
    }
   ],
   "source": [
    "np.random.randint(1,100,20)"
   ]
  },
  {
   "cell_type": "markdown",
   "id": "14dccd48-2697-4d32-83d2-5973da701517",
   "metadata": {},
   "source": [
    "## Array Attributes and Methods"
   ]
  },
  {
   "cell_type": "code",
   "execution_count": 38,
   "id": "269083ef-f51d-4e47-b547-6dfc5742b937",
   "metadata": {},
   "outputs": [],
   "source": [
    "arr = np.arange(25)\n",
    "ranarr = np.random.randint(0, 50,10)"
   ]
  },
  {
   "cell_type": "code",
   "execution_count": 33,
   "id": "e9b25978-3f0f-4510-9f7e-2c9b69af7084",
   "metadata": {},
   "outputs": [
    {
     "data": {
      "text/plain": [
       "array([ 0,  1,  2,  3,  4,  5,  6,  7,  8,  9, 10, 11, 12, 13, 14, 15, 16,\n",
       "       17, 18, 19, 20, 21, 22, 23, 24])"
      ]
     },
     "execution_count": 33,
     "metadata": {},
     "output_type": "execute_result"
    }
   ],
   "source": [
    "arr\n"
   ]
  },
  {
   "cell_type": "code",
   "execution_count": 34,
   "id": "846769a5-307c-44a3-805e-c162389be26b",
   "metadata": {},
   "outputs": [
    {
     "data": {
      "text/plain": [
       "array([26, 18, 16, 22,  7, 36, 26, 35,  1, 25])"
      ]
     },
     "execution_count": 34,
     "metadata": {},
     "output_type": "execute_result"
    }
   ],
   "source": [
    "ranarr"
   ]
  },
  {
   "cell_type": "markdown",
   "id": "67d06c2b-e521-41bd-8941-ee231b045aa8",
   "metadata": {},
   "source": [
    "### 1. reshape\n",
    "* Returns an array containing the same data with a new shape.\n",
    "* new shape means `1D to 2D` or `2D to 1D`."
   ]
  },
  {
   "cell_type": "code",
   "execution_count": 35,
   "id": "b8aeb828-cb8e-49f0-ae1d-63ecf32a8886",
   "metadata": {},
   "outputs": [
    {
     "data": {
      "text/plain": [
       "array([[ 0,  1,  2,  3,  4],\n",
       "       [ 5,  6,  7,  8,  9],\n",
       "       [10, 11, 12, 13, 14],\n",
       "       [15, 16, 17, 18, 19],\n",
       "       [20, 21, 22, 23, 24]])"
      ]
     },
     "execution_count": 35,
     "metadata": {},
     "output_type": "execute_result"
    }
   ],
   "source": [
    "arr.reshape(5,5)"
   ]
  },
  {
   "cell_type": "markdown",
   "id": "cc18b5bc-b27c-4fa8-8975-da0e1aaa6c31",
   "metadata": {},
   "source": [
    "* you will get an error if you try to reshape the array with incomplete elements."
   ]
  },
  {
   "cell_type": "code",
   "execution_count": 39,
   "id": "030b79b2-0830-4084-81a1-f3acb81c04f5",
   "metadata": {},
   "outputs": [
    {
     "ename": "ValueError",
     "evalue": "cannot reshape array of size 25 into shape (5,6)",
     "output_type": "error",
     "traceback": [
      "\u001b[1;31m---------------------------------------------------------------------------\u001b[0m",
      "\u001b[1;31mValueError\u001b[0m                                Traceback (most recent call last)",
      "Cell \u001b[1;32mIn[39], line 1\u001b[0m\n\u001b[1;32m----> 1\u001b[0m arr\u001b[38;5;241m.\u001b[39mreshape(\u001b[38;5;241m5\u001b[39m,\u001b[38;5;241m6\u001b[39m)\n",
      "\u001b[1;31mValueError\u001b[0m: cannot reshape array of size 25 into shape (5,6)"
     ]
    }
   ],
   "source": [
    "arr.reshape(5,6)"
   ]
  },
  {
   "cell_type": "markdown",
   "id": "c98c4a6d-429f-495b-b01a-cdde5b49e37a",
   "metadata": {},
   "source": [
    "* to Reshape the array into `5x6` you need to have 30 elements at the array you are trying to shape."
   ]
  },
  {
   "cell_type": "markdown",
   "id": "40839c28-7b8a-49fe-8205-fbe465f08d15",
   "metadata": {},
   "source": [
    "## 2. Max, Min\n",
    "    Return the max and min value from the array."
   ]
  },
  {
   "cell_type": "code",
   "execution_count": 40,
   "id": "ee3d673a-c1e9-4cf5-b86b-6fd83cd30bc3",
   "metadata": {},
   "outputs": [
    {
     "data": {
      "text/plain": [
       "array([ 0,  1,  2,  3,  4,  5,  6,  7,  8,  9, 10, 11, 12, 13, 14, 15, 16,\n",
       "       17, 18, 19, 20, 21, 22, 23, 24])"
      ]
     },
     "execution_count": 40,
     "metadata": {},
     "output_type": "execute_result"
    }
   ],
   "source": [
    "arr\n"
   ]
  },
  {
   "cell_type": "code",
   "execution_count": 41,
   "id": "e40b57c7-60cd-493d-a28a-864878617a69",
   "metadata": {},
   "outputs": [
    {
     "data": {
      "text/plain": [
       "24"
      ]
     },
     "execution_count": 41,
     "metadata": {},
     "output_type": "execute_result"
    }
   ],
   "source": [
    "arr.max()"
   ]
  },
  {
   "cell_type": "code",
   "execution_count": 42,
   "id": "08a27739-4d12-4337-9988-42c41b8c0a53",
   "metadata": {},
   "outputs": [
    {
     "data": {
      "text/plain": [
       "0"
      ]
     },
     "execution_count": 42,
     "metadata": {},
     "output_type": "execute_result"
    }
   ],
   "source": [
    "arr.min()"
   ]
  },
  {
   "cell_type": "markdown",
   "id": "18399f7e-0da6-4574-a2f4-4bcc0bd6a542",
   "metadata": {},
   "source": [
    "## 3. argmax, argmin\n",
    "    returns the index value of the max and min elements."
   ]
  },
  {
   "cell_type": "code",
   "execution_count": 45,
   "id": "002f922c-9395-4c8f-af45-4a0acd974f5f",
   "metadata": {},
   "outputs": [
    {
     "data": {
      "text/plain": [
       "array([ 6, 22, 19, 25, 41,  8, 48, 41, 35, 27])"
      ]
     },
     "execution_count": 45,
     "metadata": {},
     "output_type": "execute_result"
    }
   ],
   "source": [
    "ranarr"
   ]
  },
  {
   "cell_type": "code",
   "execution_count": 47,
   "id": "24403ea9-7051-4921-88c1-2f6d0fff341f",
   "metadata": {},
   "outputs": [
    {
     "data": {
      "text/plain": [
       "6"
      ]
     },
     "execution_count": 47,
     "metadata": {},
     "output_type": "execute_result"
    }
   ],
   "source": [
    "ranarr.argmax()"
   ]
  },
  {
   "cell_type": "code",
   "execution_count": 48,
   "id": "443c8f5d-a74d-4894-923c-6b52d6f653b2",
   "metadata": {},
   "outputs": [
    {
     "data": {
      "text/plain": [
       "0"
      ]
     },
     "execution_count": 48,
     "metadata": {},
     "output_type": "execute_result"
    }
   ],
   "source": [
    "ranarr.argmin()"
   ]
  },
  {
   "cell_type": "markdown",
   "id": "36e39a3f-5e85-443e-a2d5-3f28bbdfefce",
   "metadata": {},
   "source": [
    "## Shape\n",
    "* this is a attribute not a method.\n",
    "* It returns the shape of the array."
   ]
  },
  {
   "cell_type": "code",
   "execution_count": 49,
   "id": "9fc97978-8c3e-4b68-8420-114560f3152d",
   "metadata": {},
   "outputs": [
    {
     "data": {
      "text/plain": [
       "(25,)"
      ]
     },
     "execution_count": 49,
     "metadata": {},
     "output_type": "execute_result"
    }
   ],
   "source": [
    "arr.shape"
   ]
  },
  {
   "cell_type": "code",
   "execution_count": 50,
   "id": "b6813e8b-210b-4883-977d-73a768165fcd",
   "metadata": {},
   "outputs": [
    {
     "data": {
      "text/plain": [
       "(10,)"
      ]
     },
     "execution_count": 50,
     "metadata": {},
     "output_type": "execute_result"
    }
   ],
   "source": [
    "ranarr.shape"
   ]
  },
  {
   "cell_type": "code",
   "execution_count": 51,
   "id": "9962aa35-7a5b-47b0-b737-e7d4fd65973f",
   "metadata": {},
   "outputs": [],
   "source": [
    "arr = arr.reshape(5,5)"
   ]
  },
  {
   "cell_type": "code",
   "execution_count": 52,
   "id": "7882453e-f26e-4507-a0c7-061425524e1e",
   "metadata": {},
   "outputs": [
    {
     "data": {
      "text/plain": [
       "array([[ 0,  1,  2,  3,  4],\n",
       "       [ 5,  6,  7,  8,  9],\n",
       "       [10, 11, 12, 13, 14],\n",
       "       [15, 16, 17, 18, 19],\n",
       "       [20, 21, 22, 23, 24]])"
      ]
     },
     "execution_count": 52,
     "metadata": {},
     "output_type": "execute_result"
    }
   ],
   "source": [
    "arr"
   ]
  },
  {
   "cell_type": "code",
   "execution_count": 53,
   "id": "75cf4666-f9e8-4a62-a1ac-7d24c76e883c",
   "metadata": {},
   "outputs": [
    {
     "data": {
      "text/plain": [
       "(5, 5)"
      ]
     },
     "execution_count": 53,
     "metadata": {},
     "output_type": "execute_result"
    }
   ],
   "source": [
    "arr.shape"
   ]
  },
  {
   "cell_type": "markdown",
   "id": "d5627446-1a17-4026-b9fa-7536043fa2d2",
   "metadata": {},
   "source": [
    "## dtype\n",
    "* returns the datatype of the array\n",
    "* It is also a attribute.\n",
    "    "
   ]
  },
  {
   "cell_type": "code",
   "execution_count": 54,
   "id": "333be134-1901-4417-980c-b6e89cdb2a99",
   "metadata": {},
   "outputs": [
    {
     "data": {
      "text/plain": [
       "dtype('int32')"
      ]
     },
     "execution_count": 54,
     "metadata": {},
     "output_type": "execute_result"
    }
   ],
   "source": [
    "arr.dtype\n"
   ]
  },
  {
   "cell_type": "code",
   "execution_count": null,
   "id": "3137be5e-40e3-4964-b8c4-dc2d21ca5f09",
   "metadata": {},
   "outputs": [],
   "source": []
  }
 ],
 "metadata": {
  "kernelspec": {
   "display_name": "Python 3 (ipykernel)",
   "language": "python",
   "name": "python3"
  },
  "language_info": {
   "codemirror_mode": {
    "name": "ipython",
    "version": 3
   },
   "file_extension": ".py",
   "mimetype": "text/x-python",
   "name": "python",
   "nbconvert_exporter": "python",
   "pygments_lexer": "ipython3",
   "version": "3.11.7"
  }
 },
 "nbformat": 4,
 "nbformat_minor": 5
}
