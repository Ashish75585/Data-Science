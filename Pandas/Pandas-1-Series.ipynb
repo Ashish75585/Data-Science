{
 "cells": [
  {
   "cell_type": "code",
   "execution_count": 1,
   "id": "076f6876-6517-48d0-bd0f-9fc3aaca4e18",
   "metadata": {},
   "outputs": [],
   "source": [
    "import pandas as pd"
   ]
  },
  {
   "cell_type": "code",
   "execution_count": 2,
   "id": "af3d28d8-6a70-411b-8dd7-d0007bdb9c3e",
   "metadata": {},
   "outputs": [],
   "source": [
    "import numpy as np"
   ]
  },
  {
   "cell_type": "markdown",
   "id": "8acbe1c5-7a2b-4195-8a40-f36b83956167",
   "metadata": {},
   "source": [
    "# Series\n",
    "* A `series` is like a column in a table.\n",
    "* It is a one-dimensional array and can hold data of any type.\n",
    "* The main difference between a `series` and a NumPy `array` is that a series can have axis labels,   \n",
    "  meaning it can be indexed by label instead of just number location.\n",
    "* A pandas series can hold variety of objects such as `integers`, `strings`, `characters` etc."
   ]
  },
  {
   "cell_type": "markdown",
   "id": "7959a89e-c7bc-4ca7-8b1a-ef2ef288b1f9",
   "metadata": {},
   "source": [
    "## Creating a Series\n",
    "We can create a `Series` from a `list`, `array`, and `dictionary`."
   ]
  },
  {
   "cell_type": "code",
   "execution_count": 3,
   "id": "7b177c56-a5c9-4b0b-af00-c6b2224ecbb7",
   "metadata": {},
   "outputs": [],
   "source": [
    "labels = ['a', 'b', 'c']\n",
    "my_list = [\"apple\", \"banana\", \"pineapple\"]\n",
    "arr = np.array([1,2,3,4])\n",
    "dict = {'a': 10, 'b': 20, 'c': 30, 'd': 40}"
   ]
  },
  {
   "cell_type": "markdown",
   "id": "a24daf35-91fc-491b-919d-8e4eb28573b5",
   "metadata": {},
   "source": [
    "### 1. Using list"
   ]
  },
  {
   "cell_type": "code",
   "execution_count": 8,
   "id": "f9987548-c99a-4851-91c4-8adaa1e005f7",
   "metadata": {},
   "outputs": [],
   "source": [
    "ser = pd.Series(data=my_list)"
   ]
  },
  {
   "cell_type": "code",
   "execution_count": 9,
   "id": "8e6343c6-57e6-42b9-ad54-c60428ac62d4",
   "metadata": {},
   "outputs": [
    {
     "data": {
      "text/plain": [
       "0        apple\n",
       "1       banana\n",
       "2    pineapple\n",
       "dtype: object"
      ]
     },
     "execution_count": 9,
     "metadata": {},
     "output_type": "execute_result"
    }
   ],
   "source": [
    "ser"
   ]
  },
  {
   "cell_type": "markdown",
   "id": "1b0fecd3-b034-427f-91fa-f013f412249d",
   "metadata": {},
   "source": [
    "<p style=\"color: white; background: black\">If we don't specify the <code>index</code> then it will use integers as index</p>"
   ]
  },
  {
   "cell_type": "markdown",
   "id": "627e9b04-e44d-4f9d-84d0-2adc9aed9158",
   "metadata": {},
   "source": [
    "#### To access this values we can use labels"
   ]
  },
  {
   "cell_type": "code",
   "execution_count": 10,
   "id": "85cb288d-46a1-49b4-ab9d-3f2e5e6c33a5",
   "metadata": {},
   "outputs": [
    {
     "data": {
      "text/plain": [
       "'apple'"
      ]
     },
     "execution_count": 10,
     "metadata": {},
     "output_type": "execute_result"
    }
   ],
   "source": [
    "ser[0]"
   ]
  },
  {
   "cell_type": "code",
   "execution_count": 11,
   "id": "16b23b87-6364-4185-a846-1cfe71fd0657",
   "metadata": {},
   "outputs": [
    {
     "data": {
      "text/plain": [
       "'pineapple'"
      ]
     },
     "execution_count": 11,
     "metadata": {},
     "output_type": "execute_result"
    }
   ],
   "source": [
    "ser[2]"
   ]
  },
  {
   "cell_type": "markdown",
   "id": "95479795-cd47-4e54-ad82-81c7559b13f5",
   "metadata": {},
   "source": [
    "### 2. Using array"
   ]
  },
  {
   "cell_type": "code",
   "execution_count": 5,
   "id": "acd2f9c3-79ff-48c3-b28c-902c37385fa5",
   "metadata": {},
   "outputs": [
    {
     "data": {
      "text/plain": [
       "0    1\n",
       "1    2\n",
       "2    3\n",
       "3    4\n",
       "dtype: int32"
      ]
     },
     "execution_count": 5,
     "metadata": {},
     "output_type": "execute_result"
    }
   ],
   "source": [
    "pd.Series(data=arr)"
   ]
  },
  {
   "cell_type": "markdown",
   "id": "fa5e52b6-c4b7-4a53-8b43-46e528b46035",
   "metadata": {},
   "source": [
    "### 3. Using dictionary\n",
    "Series will convert `key` into `labels` and `values` into `data`"
   ]
  },
  {
   "cell_type": "code",
   "execution_count": 6,
   "id": "0f48b618-96e5-471c-b93e-d08228d2ceef",
   "metadata": {},
   "outputs": [
    {
     "data": {
      "text/plain": [
       "a    10\n",
       "b    20\n",
       "c    30\n",
       "d    40\n",
       "dtype: int64"
      ]
     },
     "execution_count": 6,
     "metadata": {},
     "output_type": "execute_result"
    }
   ],
   "source": [
    "pd.Series(data=dict)"
   ]
  },
  {
   "cell_type": "markdown",
   "id": "c9ae6cde-121e-41a3-b307-539abcb37fe3",
   "metadata": {},
   "source": [
    "## Creating labels\n",
    "With the `index` argument, we can name our own label."
   ]
  },
  {
   "cell_type": "code",
   "execution_count": 12,
   "id": "015aac74-949c-413e-b01f-2afada061c7a",
   "metadata": {},
   "outputs": [],
   "source": [
    "ser = pd.Series(data=my_list, index=labels)"
   ]
  },
  {
   "cell_type": "code",
   "execution_count": 13,
   "id": "0d7159c8-44ce-4eb6-aa3e-69e466be29f0",
   "metadata": {},
   "outputs": [
    {
     "data": {
      "text/plain": [
       "a        apple\n",
       "b       banana\n",
       "c    pineapple\n",
       "dtype: object"
      ]
     },
     "execution_count": 13,
     "metadata": {},
     "output_type": "execute_result"
    }
   ],
   "source": [
    "ser"
   ]
  },
  {
   "cell_type": "markdown",
   "id": "c16a4cd4-a2fe-4469-b41b-ab8f3e0070a2",
   "metadata": {},
   "source": [
    "#### To access this values, we can use this labels"
   ]
  },
  {
   "cell_type": "code",
   "execution_count": 15,
   "id": "938a0afa-813b-4a78-9a27-cf0182862db2",
   "metadata": {},
   "outputs": [
    {
     "data": {
      "text/plain": [
       "'apple'"
      ]
     },
     "execution_count": 15,
     "metadata": {},
     "output_type": "execute_result"
    }
   ],
   "source": [
    "# label is a character in this case, so we have to use the single quotes to access the values.\n",
    "ser['a']"
   ]
  },
  {
   "cell_type": "markdown",
   "id": "9ae23f2c-8c84-40f5-af9f-1c0d86b7a8f7",
   "metadata": {},
   "source": [
    "### Since, arguments data and index are in order. We can pass the values without mentioning the arguments name."
   ]
  },
  {
   "cell_type": "code",
   "execution_count": 19,
   "id": "ad6d78ca-1baa-426f-8d8a-a0bce0920b3e",
   "metadata": {},
   "outputs": [
    {
     "data": {
      "text/plain": [
       "a        apple\n",
       "b       banana\n",
       "c    pineapple\n",
       "dtype: object"
      ]
     },
     "execution_count": 19,
     "metadata": {},
     "output_type": "execute_result"
    }
   ],
   "source": [
    "pd.Series(my_list, labels)"
   ]
  },
  {
   "cell_type": "markdown",
   "id": "3441df49-9c3e-4cc3-b569-f5ec2a4b081d",
   "metadata": {},
   "source": [
    "## Important Note\n",
    "If you wants a custom label, the size of `data` and `label` should be `equal`, otherwise you will get a `ValueError`."
   ]
  },
  {
   "cell_type": "code",
   "execution_count": 16,
   "id": "b5ec78e1-6ae3-4c55-9e0c-215e6601bb74",
   "metadata": {},
   "outputs": [
    {
     "ename": "ValueError",
     "evalue": "Length of values (4) does not match length of index (3)",
     "output_type": "error",
     "traceback": [
      "\u001b[1;31m---------------------------------------------------------------------------\u001b[0m",
      "\u001b[1;31mValueError\u001b[0m                                Traceback (most recent call last)",
      "Cell \u001b[1;32mIn[16], line 1\u001b[0m\n\u001b[1;32m----> 1\u001b[0m pd\u001b[38;5;241m.\u001b[39mSeries(data\u001b[38;5;241m=\u001b[39marr, index\u001b[38;5;241m=\u001b[39mlabels)\n",
      "File \u001b[1;32m~\\anaconda3\\Lib\\site-packages\\pandas\\core\\series.py:503\u001b[0m, in \u001b[0;36mSeries.__init__\u001b[1;34m(self, data, index, dtype, name, copy, fastpath)\u001b[0m\n\u001b[0;32m    501\u001b[0m     index \u001b[38;5;241m=\u001b[39m default_index(\u001b[38;5;28mlen\u001b[39m(data))\n\u001b[0;32m    502\u001b[0m \u001b[38;5;28;01melif\u001b[39;00m is_list_like(data):\n\u001b[1;32m--> 503\u001b[0m     com\u001b[38;5;241m.\u001b[39mrequire_length_match(data, index)\n\u001b[0;32m    505\u001b[0m \u001b[38;5;66;03m# create/copy the manager\u001b[39;00m\n\u001b[0;32m    506\u001b[0m \u001b[38;5;28;01mif\u001b[39;00m \u001b[38;5;28misinstance\u001b[39m(data, (SingleBlockManager, SingleArrayManager)):\n",
      "File \u001b[1;32m~\\anaconda3\\Lib\\site-packages\\pandas\\core\\common.py:561\u001b[0m, in \u001b[0;36mrequire_length_match\u001b[1;34m(data, index)\u001b[0m\n\u001b[0;32m    557\u001b[0m \u001b[38;5;250m\u001b[39m\u001b[38;5;124;03m\"\"\"\u001b[39;00m\n\u001b[0;32m    558\u001b[0m \u001b[38;5;124;03mCheck the length of data matches the length of the index.\u001b[39;00m\n\u001b[0;32m    559\u001b[0m \u001b[38;5;124;03m\"\"\"\u001b[39;00m\n\u001b[0;32m    560\u001b[0m \u001b[38;5;28;01mif\u001b[39;00m \u001b[38;5;28mlen\u001b[39m(data) \u001b[38;5;241m!=\u001b[39m \u001b[38;5;28mlen\u001b[39m(index):\n\u001b[1;32m--> 561\u001b[0m     \u001b[38;5;28;01mraise\u001b[39;00m \u001b[38;5;167;01mValueError\u001b[39;00m(\n\u001b[0;32m    562\u001b[0m         \u001b[38;5;124m\"\u001b[39m\u001b[38;5;124mLength of values \u001b[39m\u001b[38;5;124m\"\u001b[39m\n\u001b[0;32m    563\u001b[0m         \u001b[38;5;124mf\u001b[39m\u001b[38;5;124m\"\u001b[39m\u001b[38;5;124m(\u001b[39m\u001b[38;5;132;01m{\u001b[39;00m\u001b[38;5;28mlen\u001b[39m(data)\u001b[38;5;132;01m}\u001b[39;00m\u001b[38;5;124m) \u001b[39m\u001b[38;5;124m\"\u001b[39m\n\u001b[0;32m    564\u001b[0m         \u001b[38;5;124m\"\u001b[39m\u001b[38;5;124mdoes not match length of index \u001b[39m\u001b[38;5;124m\"\u001b[39m\n\u001b[0;32m    565\u001b[0m         \u001b[38;5;124mf\u001b[39m\u001b[38;5;124m\"\u001b[39m\u001b[38;5;124m(\u001b[39m\u001b[38;5;132;01m{\u001b[39;00m\u001b[38;5;28mlen\u001b[39m(index)\u001b[38;5;132;01m}\u001b[39;00m\u001b[38;5;124m)\u001b[39m\u001b[38;5;124m\"\u001b[39m\n\u001b[0;32m    566\u001b[0m     )\n",
      "\u001b[1;31mValueError\u001b[0m: Length of values (4) does not match length of index (3)"
     ]
    }
   ],
   "source": [
    "pd.Series(data=arr, index=labels)"
   ]
  },
  {
   "cell_type": "code",
   "execution_count": 18,
   "id": "81e66f91-a254-419d-9f6e-28f196be1f73",
   "metadata": {},
   "outputs": [
    {
     "ename": "ValueError",
     "evalue": "Length of values (3) does not match length of index (4)",
     "output_type": "error",
     "traceback": [
      "\u001b[1;31m---------------------------------------------------------------------------\u001b[0m",
      "\u001b[1;31mValueError\u001b[0m                                Traceback (most recent call last)",
      "Cell \u001b[1;32mIn[18], line 2\u001b[0m\n\u001b[0;32m      1\u001b[0m \u001b[38;5;66;03m# Switching the positions\u001b[39;00m\n\u001b[1;32m----> 2\u001b[0m pd\u001b[38;5;241m.\u001b[39mSeries(data\u001b[38;5;241m=\u001b[39mlabels, index\u001b[38;5;241m=\u001b[39marr)\n",
      "File \u001b[1;32m~\\anaconda3\\Lib\\site-packages\\pandas\\core\\series.py:503\u001b[0m, in \u001b[0;36mSeries.__init__\u001b[1;34m(self, data, index, dtype, name, copy, fastpath)\u001b[0m\n\u001b[0;32m    501\u001b[0m     index \u001b[38;5;241m=\u001b[39m default_index(\u001b[38;5;28mlen\u001b[39m(data))\n\u001b[0;32m    502\u001b[0m \u001b[38;5;28;01melif\u001b[39;00m is_list_like(data):\n\u001b[1;32m--> 503\u001b[0m     com\u001b[38;5;241m.\u001b[39mrequire_length_match(data, index)\n\u001b[0;32m    505\u001b[0m \u001b[38;5;66;03m# create/copy the manager\u001b[39;00m\n\u001b[0;32m    506\u001b[0m \u001b[38;5;28;01mif\u001b[39;00m \u001b[38;5;28misinstance\u001b[39m(data, (SingleBlockManager, SingleArrayManager)):\n",
      "File \u001b[1;32m~\\anaconda3\\Lib\\site-packages\\pandas\\core\\common.py:561\u001b[0m, in \u001b[0;36mrequire_length_match\u001b[1;34m(data, index)\u001b[0m\n\u001b[0;32m    557\u001b[0m \u001b[38;5;250m\u001b[39m\u001b[38;5;124;03m\"\"\"\u001b[39;00m\n\u001b[0;32m    558\u001b[0m \u001b[38;5;124;03mCheck the length of data matches the length of the index.\u001b[39;00m\n\u001b[0;32m    559\u001b[0m \u001b[38;5;124;03m\"\"\"\u001b[39;00m\n\u001b[0;32m    560\u001b[0m \u001b[38;5;28;01mif\u001b[39;00m \u001b[38;5;28mlen\u001b[39m(data) \u001b[38;5;241m!=\u001b[39m \u001b[38;5;28mlen\u001b[39m(index):\n\u001b[1;32m--> 561\u001b[0m     \u001b[38;5;28;01mraise\u001b[39;00m \u001b[38;5;167;01mValueError\u001b[39;00m(\n\u001b[0;32m    562\u001b[0m         \u001b[38;5;124m\"\u001b[39m\u001b[38;5;124mLength of values \u001b[39m\u001b[38;5;124m\"\u001b[39m\n\u001b[0;32m    563\u001b[0m         \u001b[38;5;124mf\u001b[39m\u001b[38;5;124m\"\u001b[39m\u001b[38;5;124m(\u001b[39m\u001b[38;5;132;01m{\u001b[39;00m\u001b[38;5;28mlen\u001b[39m(data)\u001b[38;5;132;01m}\u001b[39;00m\u001b[38;5;124m) \u001b[39m\u001b[38;5;124m\"\u001b[39m\n\u001b[0;32m    564\u001b[0m         \u001b[38;5;124m\"\u001b[39m\u001b[38;5;124mdoes not match length of index \u001b[39m\u001b[38;5;124m\"\u001b[39m\n\u001b[0;32m    565\u001b[0m         \u001b[38;5;124mf\u001b[39m\u001b[38;5;124m\"\u001b[39m\u001b[38;5;124m(\u001b[39m\u001b[38;5;132;01m{\u001b[39;00m\u001b[38;5;28mlen\u001b[39m(index)\u001b[38;5;132;01m}\u001b[39;00m\u001b[38;5;124m)\u001b[39m\u001b[38;5;124m\"\u001b[39m\n\u001b[0;32m    566\u001b[0m     )\n",
      "\u001b[1;31mValueError\u001b[0m: Length of values (3) does not match length of index (4)"
     ]
    }
   ],
   "source": [
    "# Switching the positions\n",
    "pd.Series(data=labels, index=arr)"
   ]
  },
  {
   "cell_type": "markdown",
   "id": "6e081c85-6744-4fd8-92f8-a4ea670d3296",
   "metadata": {},
   "source": [
    "### We can also add two series objects."
   ]
  },
  {
   "cell_type": "code",
   "execution_count": 21,
   "id": "54f88a8a-d4e3-4095-8e81-a2210b492d29",
   "metadata": {},
   "outputs": [],
   "source": [
    "ser1 = pd.Series([1,2,3,4,5], index=['a', 'b', 'c', 'd', 'e'])\n",
    "ser2 = pd.Series([1,2,3,4,5], index=['a', 'b', 'c', 'f', 'g'])"
   ]
  },
  {
   "cell_type": "code",
   "execution_count": 22,
   "id": "0e137acc-81e7-457b-b076-683641a54677",
   "metadata": {},
   "outputs": [
    {
     "data": {
      "text/plain": [
       "a    2.0\n",
       "b    4.0\n",
       "c    6.0\n",
       "d    NaN\n",
       "e    NaN\n",
       "f    NaN\n",
       "g    NaN\n",
       "dtype: float64"
      ]
     },
     "execution_count": 22,
     "metadata": {},
     "output_type": "execute_result"
    }
   ],
   "source": [
    "ser1 + ser2"
   ]
  },
  {
   "cell_type": "markdown",
   "id": "75247c8e-70b7-4b53-9859-7dc66153cc76",
   "metadata": {},
   "source": [
    "<p style=\"background: black; color: white\">The labels which are present in both series, thier values get <code>added</code> and the labels which are <code>unique</code> holds <code>NaN</code> value.</p>"
   ]
  },
  {
   "cell_type": "code",
   "execution_count": null,
   "id": "ed3069a2-a057-4692-8493-7d23925ad5f2",
   "metadata": {},
   "outputs": [],
   "source": []
  }
 ],
 "metadata": {
  "kernelspec": {
   "display_name": "Python 3 (ipykernel)",
   "language": "python",
   "name": "python3"
  },
  "language_info": {
   "codemirror_mode": {
    "name": "ipython",
    "version": 3
   },
   "file_extension": ".py",
   "mimetype": "text/x-python",
   "name": "python",
   "nbconvert_exporter": "python",
   "pygments_lexer": "ipython3",
   "version": "3.11.7"
  }
 },
 "nbformat": 4,
 "nbformat_minor": 5
}
